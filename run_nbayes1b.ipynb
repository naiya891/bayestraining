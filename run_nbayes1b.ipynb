{
 "cells": [
  {
   "cell_type": "code",
   "execution_count": 3,
   "metadata": {},
   "outputs": [
    {
     "name": "stdout",
     "output_type": "stream",
     "text": [
      "0 1 1\n",
      "1 1 1\n",
      "2 0 0\n",
      "3 0 0\n",
      "4 0 0\n",
      "5 0 0\n",
      "6 0 1\n",
      "7 1 1\n",
      "8 1 1\n",
      "9 0 0\n"
     ]
    }
   ],
   "source": [
    "import numpy as np\n",
    "from nbayes1b import NaiveBayes1\n",
    "\n",
    "data = np.genfromtxt('vote_filled.tsv', dtype=int)\n",
    "\n",
    "X = data[:, :-1]\n",
    "y = data[:, -1]\n",
    "\n",
    "clr = NaiveBayes1()\n",
    "clr.fit(X, y)\n",
    "\n",
    "predict_y = clr.predict(X[:10, :])\n",
    "for i in range(10):\n",
    "    print(i, y[i], predict_y[i])"
   ]
  },
  {
   "cell_type": "code",
   "execution_count": null,
   "metadata": {},
   "outputs": [],
   "source": []
  }
 ],
 "metadata": {
  "kernelspec": {
   "display_name": "Python 3",
   "language": "python",
   "name": "python3"
  },
  "language_info": {
   "codemirror_mode": {
    "name": "ipython",
    "version": 3
   },
   "file_extension": ".py",
   "mimetype": "text/x-python",
   "name": "python",
   "nbconvert_exporter": "python",
   "pygments_lexer": "ipython3",
   "version": "3.7.6"
  }
 },
 "nbformat": 4,
 "nbformat_minor": 4
}
